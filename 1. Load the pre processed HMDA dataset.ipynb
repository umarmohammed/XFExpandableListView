{
  "nbformat": 4,
  "nbformat_minor": 0,
  "metadata": {
    "colab": {
      "name": "1. Load the pre-processed HMDA dataset.ipynb",
      "provenance": [],
      "authorship_tag": "ABX9TyPLovMDK8m2jmaeW3+dYd4d",
      "include_colab_link": true
    },
    "kernelspec": {
      "name": "python3",
      "display_name": "Python 3"
    }
  },
  "cells": [
    {
      "cell_type": "markdown",
      "metadata": {
        "id": "view-in-github",
        "colab_type": "text"
      },
      "source": [
        "<a href=\"https://colab.research.google.com/github/umarmohammed/XFExpandableListView/blob/master/1.%20Load%20the%20pre%20processed%20HMDA%20dataset.ipynb\" target=\"_parent\"><img src=\"https://colab.research.google.com/assets/colab-badge.svg\" alt=\"Open In Colab\"/></a>"
      ]
    },
    {
      "cell_type": "code",
      "metadata": {
        "id": "8E7Pqwxonlhu"
      },
      "source": [
        "# Mount Google Drive locally\r\n",
        "from google.colab import drive\r\n",
        "drive.mount('/content/drive')\r\n",
        "\r\n",
        "# Load the preprocessed dataset\r\n",
        "from joblib import load\r\n",
        "\r\n",
        "(x,y)= load(\"/content/drive/MyDrive/liveProject/mortgage_data_preprocess.pkl.gz\")"
      ],
      "execution_count": null,
      "outputs": []
    }
  ]
}